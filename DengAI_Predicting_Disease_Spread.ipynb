{
 "cells": [
  {
   "cell_type": "code",
   "execution_count": 188,
   "metadata": {},
   "outputs": [],
   "source": [
    "import pandas as pd\n",
    "import numpy as np\n",
    "import seaborn as sns\n",
    "import matplotlib.pyplot as plt\n",
    "%matplotlib inline\n",
    "import warnings\n",
    "warnings.filterwarnings(\"ignore\")\n",
    "pd.set_option('display.max_columns', None)"
   ]
  },
  {
   "cell_type": "code",
   "execution_count": 189,
   "metadata": {},
   "outputs": [],
   "source": [
    "train = pd.read_csv(\"dengue_features_train.csv\")\n",
    "labels = pd.read_csv(\"dengue_labels_train.csv\")\n",
    "test = pd.read_csv(\"dengue_features_test.csv\")"
   ]
  },
  {
   "cell_type": "code",
   "execution_count": 190,
   "metadata": {},
   "outputs": [],
   "source": [
    "#submission file contains city,year,weekofyear, lets store them for future submission\n",
    "test_city = test.city\n",
    "test_year = test.year\n",
    "test_week = test.weekofyear"
   ]
  },
  {
   "cell_type": "code",
   "execution_count": 191,
   "metadata": {},
   "outputs": [],
   "source": [
    "#append test with train\n",
    "final = train.append(test,ignore_index=True)"
   ]
  },
  {
   "cell_type": "code",
   "execution_count": 192,
   "metadata": {},
   "outputs": [],
   "source": [
    "#Dropping week_start_date column as it is similar to the year column\n",
    "final.drop('week_start_date',axis = 1,inplace =True)"
   ]
  },
  {
   "cell_type": "code",
   "execution_count": 193,
   "metadata": {},
   "outputs": [],
   "source": [
    "#One hot encoding the city column\n",
    "dummies = pd.get_dummies(final['city'],drop_first=True)\n",
    "final = pd.concat([final,dummies],axis = 1)\n",
    "final.drop('city',axis =1,inplace =True)"
   ]
  },
  {
   "cell_type": "code",
   "execution_count": 194,
   "metadata": {},
   "outputs": [
    {
     "name": "stdout",
     "output_type": "stream",
     "text": [
      "Total number of rows with missing values is  320\n",
      "It is 17 percent of the entire dataset.\n"
     ]
    }
   ],
   "source": [
    "#Checking the percentage of nullvalues in the dataset\n",
    "count=0\n",
    "for i in final.isnull().sum(axis=1):\n",
    "    if i>0:\n",
    "        count=count+1\n",
    "print('Total number of rows with missing values is ', count)\n",
    "print('It is',round((count/len(final.index))*100), 'percent of the entire dataset.')"
   ]
  },
  {
   "cell_type": "code",
   "execution_count": 195,
   "metadata": {},
   "outputs": [],
   "source": [
    "#Filling null values using KNNImputer\n",
    "from missingpy import KNNImputer\n",
    "knn = KNNImputer()\n",
    "final_knn = knn.fit_transform(final)\n",
    "final = pd.DataFrame(final_knn,columns=final.columns)"
   ]
  },
  {
   "cell_type": "code",
   "execution_count": 196,
   "metadata": {},
   "outputs": [
    {
     "name": "stdout",
     "output_type": "stream",
     "text": [
      "Total number of rows with missing values is  0\n",
      "It is 0 percent of the entire dataset.\n"
     ]
    }
   ],
   "source": [
    "#Null values are imputed\n",
    "count=0\n",
    "for i in final.isnull().sum(axis=1):\n",
    "    if i>0:\n",
    "        count=count+1\n",
    "print('Total number of rows with missing values is ', count)\n",
    "print('It is',round((count/len(final.index))*100), 'percent of the entire dataset.')"
   ]
  },
  {
   "cell_type": "code",
   "execution_count": 197,
   "metadata": {},
   "outputs": [],
   "source": [
    "#Storing the skewed columns in the list\n",
    "list=[]\n",
    "for i in final.columns:\n",
    "    if final[i].skew()>1:\n",
    "        list.append(i)"
   ]
  },
  {
   "cell_type": "code",
   "execution_count": 198,
   "metadata": {},
   "outputs": [
    {
     "data": {
      "text/plain": [
       "['precipitation_amt_mm',\n",
       " 'reanalysis_precip_amt_kg_per_m2',\n",
       " 'reanalysis_sat_precip_amt_mm',\n",
       " 'reanalysis_tdtr_k',\n",
       " 'station_precip_mm']"
      ]
     },
     "execution_count": 198,
     "metadata": {},
     "output_type": "execute_result"
    }
   ],
   "source": [
    "list"
   ]
  },
  {
   "cell_type": "code",
   "execution_count": 199,
   "metadata": {},
   "outputs": [],
   "source": [
    "#Transforming cube root function to reduce the skew\n",
    "final['reanalysis_precip_amt_kg_per_m2'] = final['reanalysis_precip_amt_kg_per_m2'].map(lambda i: np.cbrt(i) if i > 0 else 0)\n",
    "final['station_precip_mm'] = final['station_precip_mm'].map(lambda i: np.cbrt(i) if i > 0 else 0)\n",
    "final['precipitation_amt_mm'] = final['precipitation_amt_mm'].map(lambda i: np.cbrt(i) if i > 0 else 0)\n",
    "final['reanalysis_sat_precip_amt_mm'] = final['reanalysis_sat_precip_amt_mm'].map(lambda i: np.cbrt(i) if i > 0 else 0)\n",
    "final['reanalysis_tdtr_k'] = final['reanalysis_tdtr_k'].map(lambda i: np.cbrt(i) if i > 0 else 0)"
   ]
  },
  {
   "cell_type": "code",
   "execution_count": 200,
   "metadata": {},
   "outputs": [],
   "source": [
    "#By using pandas_profiling highly correlated variables are dropped\n",
    "import pandas_profiling\n",
    "profile = final.profile_report()\n",
    "rejected = profile.get_rejected_variables(threshold=0.8)\n",
    "final.drop(rejected,axis = 1,inplace = True)"
   ]
  },
  {
   "cell_type": "code",
   "execution_count": 201,
   "metadata": {},
   "outputs": [],
   "source": [
    "# Splitting train and test\n",
    "X = final.iloc[0:train.shape[0]]\n",
    "test = final.iloc[train.shape[0]:]\n",
    "\n",
    "y = labels['total_cases']\n",
    "y = np.ravel(y)\n",
    "\n",
    "from sklearn.model_selection import train_test_split\n",
    "xtrain,xval,ytrain,yval = train_test_split(X,y,test_size = 0.3,random_state = 1)"
   ]
  },
  {
   "cell_type": "code",
   "execution_count": null,
   "metadata": {},
   "outputs": [],
   "source": []
  },
  {
   "cell_type": "code",
   "execution_count": 202,
   "metadata": {},
   "outputs": [
    {
     "name": "stdout",
     "output_type": "stream",
     "text": [
      "TRAIN\n",
      "MAE:  2.309635489467983\n",
      "R2 value:  93.6473767843573\n",
      "TEST\n",
      "MAE:  3.5137140062144474\n",
      "R2 value:  57.91006014599886\n"
     ]
    }
   ],
   "source": [
    "#Pandom Forest\n",
    "from sklearn.ensemble import RandomForestRegressor\n",
    "rf = RandomForestRegressor(n_estimators=800)\n",
    "\n",
    "from sklearn.metrics import mean_absolute_error,mean_squared_error,r2_score\n",
    "\n",
    "#Applying Random Forest\n",
    "from sklearn.ensemble import RandomForestRegressor\n",
    "rf = RandomForestRegressor(n_estimators=300)\n",
    "rf.fit(xtrain,ytrain)\n",
    "ypred = rf.predict(xtrain)\n",
    "rf_ypred = rf.predict(xval)\n",
    "print('TRAIN')\n",
    "print('MAE: ',np.sqrt(mean_absolute_error(ytrain,ypred)))\n",
    "print('R2 value: ',r2_score(ytrain,ypred)*100)\n",
    "print('TEST')\n",
    "print('MAE: ',np.sqrt(mean_absolute_error(yval,rf_ypred)))\n",
    "print('R2 value: ',r2_score(yval,rf_ypred)*100)\n"
   ]
  },
  {
   "cell_type": "code",
   "execution_count": 203,
   "metadata": {},
   "outputs": [
    {
     "data": {
      "text/plain": [
       "<matplotlib.axes._subplots.AxesSubplot at 0x146fdd06518>"
      ]
     },
     "execution_count": 203,
     "metadata": {},
     "output_type": "execute_result"
    },
    {
     "data": {
      "image/png": "[encoded data removed]",
      "text/plain": [
       "<Figure size 432x288 with 1 Axes>"
      ]
     },
     "metadata": {
      "needs_background": "light"
     },
     "output_type": "display_data"
    }
   ],
   "source": [
    "residuals = yval-rf_ypred\n",
    "sns.distplot(residuals)"
   ]
  },
  {
   "cell_type": "code",
   "execution_count": 204,
   "metadata": {},
   "outputs": [
    {
     "name": "stdout",
     "output_type": "stream",
     "text": [
      "TRAIN\n",
      "MAE:  2.2723210468751622\n",
      "R2 value:  97.09059996369976\n",
      "TEST\n",
      "MAE:  3.6413829569170013\n",
      "R2 value:  67.49010679305883\n"
     ]
    }
   ],
   "source": [
    "#Gradient Boost\n",
    "from sklearn.ensemble import GradientBoostingRegressor\n",
    "gb = GradientBoostingRegressor(n_estimators=300,learning_rate=0.1)\n",
    "\n",
    "gb.fit(xtrain,ytrain)\n",
    "ypred = gb.predict(xtrain)\n",
    "gb_ypred = gb.predict(xval)\n",
    "\n",
    "print('TRAIN')\n",
    "print('MAE: ',np.sqrt(mean_absolute_error(ytrain,ypred)))\n",
    "print('R2 value: ',r2_score(ytrain,ypred)*100)\n",
    "print('TEST')\n",
    "print('MAE: ',np.sqrt(mean_absolute_error(yval,gb_ypred)))\n",
    "print('R2 value: ',r2_score(yval,gb_ypred)*100)"
   ]
  },
  {
   "cell_type": "code",
   "execution_count": 205,
   "metadata": {},
   "outputs": [
    {
     "name": "stdout",
     "output_type": "stream",
     "text": [
      "[19:19:26] WARNING: src/objective/regression_obj.cu:152: reg:linear is now deprecated in favor of reg:squarederror.\n",
      "TRAIN\n",
      "MAE:  3.072056181871506\n",
      "R2 value:  86.02452730704046\n",
      "TEST\n",
      "MAE:  3.534842095805806\n",
      "R2 value:  70.88998485071752\n"
     ]
    }
   ],
   "source": [
    "#XGBoost\n",
    "from xgboost import XGBRegressor\n",
    "xgb = XGBRegressor()\n",
    "xgb.fit(xtrain,ytrain)\n",
    "ypred = xgb.predict(xtrain)\n",
    "\n",
    "xgb_ypred = xgb.predict(xval)\n",
    "print('TRAIN')\n",
    "print('MAE: ',np.sqrt(mean_absolute_error(ytrain,ypred)))\n",
    "print('R2 value: ',r2_score(ytrain,ypred)*100)\n",
    "print('TEST')\n",
    "print('MAE: ',np.sqrt(mean_absolute_error(yval,xgb_ypred)))\n",
    "print('R2 value: ',r2_score(yval,xgb_ypred)*100)"
   ]
  },
  {
   "cell_type": "code",
   "execution_count": 206,
   "metadata": {},
   "outputs": [
    {
     "name": "stdout",
     "output_type": "stream",
     "text": [
      "[19:19:26] WARNING: src/objective/regression_obj.cu:152: reg:linear is now deprecated in favor of reg:squarederror.\n"
     ]
    },
    {
     "data": {
      "text/plain": [
       "XGBRegressor(base_score=0.5, booster='gbtree', colsample_bylevel=1,\n",
       "             colsample_bynode=1, colsample_bytree=1, gamma=0,\n",
       "             importance_type='gain', learning_rate=0.1, max_delta_step=0,\n",
       "             max_depth=3, min_child_weight=1, missing=None, n_estimators=100,\n",
       "             n_jobs=1, nthread=None, objective='reg:linear', random_state=0,\n",
       "             reg_alpha=0, reg_lambda=1, scale_pos_weight=1, seed=None,\n",
       "             silent=None, subsample=1, verbosity=1)"
      ]
     },
     "execution_count": 206,
     "metadata": {},
     "output_type": "execute_result"
    }
   ],
   "source": [
    "xgb.fit(X,y)"
   ]
  },
  {
   "cell_type": "code",
   "execution_count": 207,
   "metadata": {},
   "outputs": [],
   "source": [
    "predict = xgb.predict(test).astype(int)\n",
    "sub = pd.DataFrame({'city':test_city,'year':test_year,'weekofyear':test_week,'total_cases':predict})\n",
    "sub.to_csv('Submission.csv',index = False)\n",
    "\n"
   ]
  }
 ],
 "metadata": {
  "kernelspec": {
   "display_name": "Python 3",
   "language": "python",
   "name": "python3"
  },
  "language_info": {
   "codemirror_mode": {
    "name": "ipython",
    "version": 3
   },
   "file_extension": ".py",
   "mimetype": "text/x-python",
   "name": "python",
   "nbconvert_exporter": "python",
   "pygments_lexer": "ipython3",
   "version": "3.7.3"
  }
 },
 "nbformat": 4,
 "nbformat_minor": 2
}
